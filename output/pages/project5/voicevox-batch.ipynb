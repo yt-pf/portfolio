{
 "cells": [
  {
   "cell_type": "code",
   "execution_count": null,
   "metadata": {},
   "outputs": [],
   "source": [
    "STYLE_ID = 14  # スタイルID\n",
    "VVM_ID = 1  # VVMファイル名\n",
    "# VVMファイル名はスタイルIDに対応する数値を設定してください。一覧はこちら\n",
    "# https://github.com/VOICEVOX/voicevox_vvm/blob/main/README.md#%E9%9F%B3%E5%A3%B0%E3%83%A2%E3%83%87%E3%83%ABvvm%E3%83%95%E3%82%A1%E3%82%A4%E3%83%AB%E3%81%A8%E5%A3%B0%E3%82%AD%E3%83%A3%E3%83%A9%E3%82%AF%E3%82%BF%E3%83%BC%E3%82%B9%E3%82%BF%E3%82%A4%E3%83%AB%E5%90%8D%E3%81%A8%E3%82%B9%E3%82%BF%E3%82%A4%E3%83%AB-id-%E3%81%AE%E5%AF%BE%E5%BF%9C%E8%A1%A8\n",
    "\n",
    "FILE_DIRECTORY = (\n",
    "    \"/content/drive/MyDrive/textfiles/\"  # 処理したいテキストファイルがあるディレクトリ\n",
    ")\n",
    "\n",
    "TEMPO = 1.0  # 再生速度の調整"
   ]
  },
  {
   "cell_type": "code",
   "execution_count": null,
   "metadata": {},
   "outputs": [],
   "source": [
    "from google.colab import drive\n",
    "\n",
    "drive.mount(\"/content/drive\")"
   ]
  },
  {
   "cell_type": "code",
   "execution_count": null,
   "metadata": {},
   "outputs": [],
   "source": [
    "# @title soxのインストール\n",
    "\n",
    "!sudo apt install -y sox libsox-fmt-mp3"
   ]
  },
  {
   "cell_type": "code",
   "execution_count": null,
   "metadata": {},
   "outputs": [],
   "source": [
    "# @title Voicevoxのインストール\n",
    "\n",
    "%%bash\n",
    "curl -sSfL https://github.com/VOICEVOX/voicevox_core/releases/latest/download/download-linux-x64 -o download\n",
    "chmod u+x download\n",
    "yes | ./download --exclude c-api --devices cuda"
   ]
  },
  {
   "cell_type": "code",
   "execution_count": null,
   "metadata": {},
   "outputs": [],
   "source": [
    "!pip install https://github.com/VOICEVOX/voicevox_core/releases/download/0.16.0/voicevox_core-0.16.0-cp310-abi3-manylinux_2_34_x86_64.whl"
   ]
  },
  {
   "cell_type": "code",
   "execution_count": null,
   "metadata": {},
   "outputs": [],
   "source": [
    "# @title ユーザー辞書の設定\n",
    "# 読み間違えやすい単語などを登録できる\n",
    "\n",
    "from voicevox_core import UserDictWord\n",
    "from voicevox_core.blocking import UserDict\n",
    "\n",
    "user_dict = UserDict()\n",
    "user_dict.add_word(UserDictWord(\"苫米地\", \"トマベチ\", 1, priority=6))\n",
    "\n",
    "# ユーザー辞書を保存したい場合\n",
    "# user_dict.save(\"./user_dict.json\")\n",
    "\n",
    "# 保存したユーザー辞書をロードしたい場合\n",
    "# user_dict.load(\"./user_dict.json\")"
   ]
  },
  {
   "cell_type": "code",
   "execution_count": null,
   "metadata": {},
   "outputs": [],
   "source": [
    "from voicevox_core.blocking import Onnxruntime, OpenJtalk, Synthesizer, VoiceModelFile\n",
    "\n",
    "# 1. Synthesizerの初期化\n",
    "voicevox_onnxruntime_path = (\n",
    "    \"/content/voicevox_core/onnxruntime/lib/\" + Onnxruntime.LIB_VERSIONED_FILENAME\n",
    ")\n",
    "open_jtalk_dict_dir = \"/content/voicevox_core/dict/open_jtalk_dic_utf_8-1.11\"\n",
    "synthesizer = Synthesizer(\n",
    "    Onnxruntime.load_once(filename=voicevox_onnxruntime_path),\n",
    "    OpenJtalk(open_jtalk_dict_dir),\n",
    ")\n",
    "\n",
    "# 2. 音声モデルの読み込み\n",
    "with VoiceModelFile.open(f\"/content/voicevox_core/models/vvms/{VVM_ID}.vvm\") as model:\n",
    "    synthesizer.load_voice_model(model)\n",
    "\n",
    "# ユーザー辞書の読み込み\n",
    "synthesizer.open_jtalk.use_user_dict(user_dict)\n",
    "\n",
    "\n",
    "def create_audio(text, filename):\n",
    "    print(filename)\n",
    "\n",
    "    # 3. テキスト音声合成\n",
    "    style_id = STYLE_ID\n",
    "    wav = synthesizer.tts(text, style_id)\n",
    "    with open(\"temp.wav\", \"wb\") as f:\n",
    "        f.write(wav)\n",
    "    !sox temp.wav {filename} pad 0 0.5"
   ]
  },
  {
   "cell_type": "code",
   "execution_count": null,
   "metadata": {},
   "outputs": [],
   "source": [
    "def merge_audio(filename):\n",
    "    %cd $FILE_DIRECTORY\n",
    "\n",
    "    # 中間ファイルの結合、ノーマライズ\n",
    "    !sox {filename}_*.wav {filename}_merged.mp3 norm -0.1 tempo {TEMPO}\n",
    "\n",
    "    # 中間ファイル削除\n",
    "    %rm {filename}_*.wav\n",
    "    %rm temp.wav"
   ]
  },
  {
   "cell_type": "code",
   "execution_count": null,
   "metadata": {},
   "outputs": [],
   "source": [
    "import os\n",
    "import glob\n",
    "\n",
    "file_list = sorted(glob.glob(os.path.join(FILE_DIRECTORY, \"*.txt\")))\n",
    "for file in file_list:\n",
    "    with open(file, \"r\", encoding=\"utf-8\") as f:\n",
    "        print(file)\n",
    "        for i, line in enumerate(f):\n",
    "            text = line\n",
    "            output_file = os.path.join(\n",
    "                FILE_DIRECTORY,\n",
    "                f\"{os.path.splitext(os.path.basename(file))[0]}_{i:05d}.wav\",\n",
    "            )\n",
    "            if os.path.exists(output_file):\n",
    "                continue\n",
    "            else:\n",
    "                try:\n",
    "                    create_audio(text, output_file)\n",
    "                except Exception as e:\n",
    "                    print(\"create_audio exception\")\n",
    "    merge_audio(os.path.splitext(os.path.basename(file))[0])  # マージする"
   ]
  }
 ],
 "metadata": {
  "accelerator": "GPU",
  "colab": {
   "gpuType": "T4",
   "provenance": []
  },
  "kernelspec": {
   "display_name": "Python 3",
   "name": "python3"
  },
  "language_info": {
   "name": "python"
  }
 },
 "nbformat": 4,
 "nbformat_minor": 0
}
